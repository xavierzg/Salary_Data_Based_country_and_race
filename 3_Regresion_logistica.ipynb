{
 "cells": [
  {
   "cell_type": "code",
   "execution_count": 55,
   "metadata": {},
   "outputs": [],
   "source": [
    "import pandas as pd\n",
    "import numpy as np\n",
    "import matplotlib.pyplot as plt \n",
    "from sklearn.model_selection import train_test_split\n",
    "from sklearn.linear_model import LogisticRegression\n",
    "from sklearn.metrics import mean_squared_error, r2_score \n",
    "from sklearn import metrics\n",
    "import seaborn as sns\n",
    "import math \n",
    "from sklearn.metrics import classification_report"
   ]
  },
  {
   "cell_type": "code",
   "execution_count": 56,
   "metadata": {},
   "outputs": [],
   "source": [
    "data = pd.read_csv('datos_limpios.csv') "
   ]
  },
  {
   "cell_type": "code",
   "execution_count": 57,
   "metadata": {},
   "outputs": [],
   "source": [
    "data_case = data.copy()"
   ]
  },
  {
   "cell_type": "markdown",
   "metadata": {},
   "source": [
    "## Eleccion de la clasificacion"
   ]
  },
  {
   "cell_type": "code",
   "execution_count": 58,
   "metadata": {},
   "outputs": [
    {
     "data": {
      "text/html": [
       "<div>\n",
       "<style scoped>\n",
       "    .dataframe tbody tr th:only-of-type {\n",
       "        vertical-align: middle;\n",
       "    }\n",
       "\n",
       "    .dataframe tbody tr th {\n",
       "        vertical-align: top;\n",
       "    }\n",
       "\n",
       "    .dataframe thead th {\n",
       "        text-align: right;\n",
       "    }\n",
       "</style>\n",
       "<table border=\"1\" class=\"dataframe\">\n",
       "  <thead>\n",
       "    <tr style=\"text-align: right;\">\n",
       "      <th></th>\n",
       "      <th>Gender</th>\n",
       "      <th>Education Level</th>\n",
       "      <th>Years of Experience</th>\n",
       "      <th>Salary</th>\n",
       "      <th>Developer</th>\n",
       "      <th>Scientist</th>\n",
       "      <th>Engineer</th>\n",
       "      <th>Sales</th>\n",
       "      <th>Manager</th>\n",
       "      <th>Senior</th>\n",
       "      <th>HR</th>\n",
       "      <th>Coordinator</th>\n",
       "      <th>Project</th>\n",
       "      <th>Software</th>\n",
       "      <th>Junior</th>\n",
       "      <th>Analyst</th>\n",
       "      <th>Data</th>\n",
       "      <th>Operations</th>\n",
       "      <th>Above Average</th>\n",
       "    </tr>\n",
       "  </thead>\n",
       "  <tbody>\n",
       "    <tr>\n",
       "      <th>0</th>\n",
       "      <td>1.0</td>\n",
       "      <td>1.0</td>\n",
       "      <td>5.0</td>\n",
       "      <td>90000.0</td>\n",
       "      <td>0.0</td>\n",
       "      <td>0.0</td>\n",
       "      <td>1.0</td>\n",
       "      <td>0.0</td>\n",
       "      <td>0.0</td>\n",
       "      <td>0.0</td>\n",
       "      <td>0.0</td>\n",
       "      <td>0.0</td>\n",
       "      <td>0.0</td>\n",
       "      <td>1.0</td>\n",
       "      <td>0.0</td>\n",
       "      <td>0.0</td>\n",
       "      <td>0.0</td>\n",
       "      <td>0.0</td>\n",
       "      <td>0</td>\n",
       "    </tr>\n",
       "    <tr>\n",
       "      <th>1</th>\n",
       "      <td>0.0</td>\n",
       "      <td>2.0</td>\n",
       "      <td>3.0</td>\n",
       "      <td>65000.0</td>\n",
       "      <td>0.0</td>\n",
       "      <td>0.0</td>\n",
       "      <td>0.0</td>\n",
       "      <td>0.0</td>\n",
       "      <td>0.0</td>\n",
       "      <td>0.0</td>\n",
       "      <td>0.0</td>\n",
       "      <td>0.0</td>\n",
       "      <td>0.0</td>\n",
       "      <td>0.0</td>\n",
       "      <td>0.0</td>\n",
       "      <td>1.0</td>\n",
       "      <td>1.0</td>\n",
       "      <td>0.0</td>\n",
       "      <td>0</td>\n",
       "    </tr>\n",
       "    <tr>\n",
       "      <th>2</th>\n",
       "      <td>1.0</td>\n",
       "      <td>3.0</td>\n",
       "      <td>15.0</td>\n",
       "      <td>150000.0</td>\n",
       "      <td>0.0</td>\n",
       "      <td>0.0</td>\n",
       "      <td>0.0</td>\n",
       "      <td>0.0</td>\n",
       "      <td>1.0</td>\n",
       "      <td>1.0</td>\n",
       "      <td>0.0</td>\n",
       "      <td>0.0</td>\n",
       "      <td>0.0</td>\n",
       "      <td>0.0</td>\n",
       "      <td>0.0</td>\n",
       "      <td>0.0</td>\n",
       "      <td>0.0</td>\n",
       "      <td>0.0</td>\n",
       "      <td>1</td>\n",
       "    </tr>\n",
       "    <tr>\n",
       "      <th>3</th>\n",
       "      <td>0.0</td>\n",
       "      <td>1.0</td>\n",
       "      <td>7.0</td>\n",
       "      <td>60000.0</td>\n",
       "      <td>0.0</td>\n",
       "      <td>0.0</td>\n",
       "      <td>0.0</td>\n",
       "      <td>1.0</td>\n",
       "      <td>0.0</td>\n",
       "      <td>0.0</td>\n",
       "      <td>0.0</td>\n",
       "      <td>0.0</td>\n",
       "      <td>0.0</td>\n",
       "      <td>0.0</td>\n",
       "      <td>0.0</td>\n",
       "      <td>0.0</td>\n",
       "      <td>0.0</td>\n",
       "      <td>0.0</td>\n",
       "      <td>0</td>\n",
       "    </tr>\n",
       "    <tr>\n",
       "      <th>4</th>\n",
       "      <td>1.0</td>\n",
       "      <td>2.0</td>\n",
       "      <td>20.0</td>\n",
       "      <td>200000.0</td>\n",
       "      <td>0.0</td>\n",
       "      <td>0.0</td>\n",
       "      <td>0.0</td>\n",
       "      <td>0.0</td>\n",
       "      <td>0.0</td>\n",
       "      <td>0.0</td>\n",
       "      <td>0.0</td>\n",
       "      <td>0.0</td>\n",
       "      <td>0.0</td>\n",
       "      <td>0.0</td>\n",
       "      <td>0.0</td>\n",
       "      <td>0.0</td>\n",
       "      <td>0.0</td>\n",
       "      <td>0.0</td>\n",
       "      <td>1</td>\n",
       "    </tr>\n",
       "    <tr>\n",
       "      <th>...</th>\n",
       "      <td>...</td>\n",
       "      <td>...</td>\n",
       "      <td>...</td>\n",
       "      <td>...</td>\n",
       "      <td>...</td>\n",
       "      <td>...</td>\n",
       "      <td>...</td>\n",
       "      <td>...</td>\n",
       "      <td>...</td>\n",
       "      <td>...</td>\n",
       "      <td>...</td>\n",
       "      <td>...</td>\n",
       "      <td>...</td>\n",
       "      <td>...</td>\n",
       "      <td>...</td>\n",
       "      <td>...</td>\n",
       "      <td>...</td>\n",
       "      <td>...</td>\n",
       "      <td>...</td>\n",
       "    </tr>\n",
       "    <tr>\n",
       "      <th>6679</th>\n",
       "      <td>0.0</td>\n",
       "      <td>3.0</td>\n",
       "      <td>20.0</td>\n",
       "      <td>200000.0</td>\n",
       "      <td>0.0</td>\n",
       "      <td>0.0</td>\n",
       "      <td>0.0</td>\n",
       "      <td>0.0</td>\n",
       "      <td>0.0</td>\n",
       "      <td>0.0</td>\n",
       "      <td>0.0</td>\n",
       "      <td>0.0</td>\n",
       "      <td>0.0</td>\n",
       "      <td>0.0</td>\n",
       "      <td>0.0</td>\n",
       "      <td>0.0</td>\n",
       "      <td>0.0</td>\n",
       "      <td>0.0</td>\n",
       "      <td>1</td>\n",
       "    </tr>\n",
       "    <tr>\n",
       "      <th>6680</th>\n",
       "      <td>1.0</td>\n",
       "      <td>0.0</td>\n",
       "      <td>3.0</td>\n",
       "      <td>50000.0</td>\n",
       "      <td>0.0</td>\n",
       "      <td>0.0</td>\n",
       "      <td>0.0</td>\n",
       "      <td>1.0</td>\n",
       "      <td>0.0</td>\n",
       "      <td>0.0</td>\n",
       "      <td>0.0</td>\n",
       "      <td>0.0</td>\n",
       "      <td>0.0</td>\n",
       "      <td>0.0</td>\n",
       "      <td>0.0</td>\n",
       "      <td>0.0</td>\n",
       "      <td>0.0</td>\n",
       "      <td>0.0</td>\n",
       "      <td>0</td>\n",
       "    </tr>\n",
       "    <tr>\n",
       "      <th>6681</th>\n",
       "      <td>0.0</td>\n",
       "      <td>1.0</td>\n",
       "      <td>4.0</td>\n",
       "      <td>55000.0</td>\n",
       "      <td>0.0</td>\n",
       "      <td>0.0</td>\n",
       "      <td>0.0</td>\n",
       "      <td>0.0</td>\n",
       "      <td>1.0</td>\n",
       "      <td>0.0</td>\n",
       "      <td>0.0</td>\n",
       "      <td>0.0</td>\n",
       "      <td>0.0</td>\n",
       "      <td>0.0</td>\n",
       "      <td>0.0</td>\n",
       "      <td>0.0</td>\n",
       "      <td>0.0</td>\n",
       "      <td>0.0</td>\n",
       "      <td>0</td>\n",
       "    </tr>\n",
       "    <tr>\n",
       "      <th>6682</th>\n",
       "      <td>1.0</td>\n",
       "      <td>2.0</td>\n",
       "      <td>14.0</td>\n",
       "      <td>140000.0</td>\n",
       "      <td>0.0</td>\n",
       "      <td>0.0</td>\n",
       "      <td>0.0</td>\n",
       "      <td>0.0</td>\n",
       "      <td>1.0</td>\n",
       "      <td>0.0</td>\n",
       "      <td>0.0</td>\n",
       "      <td>0.0</td>\n",
       "      <td>0.0</td>\n",
       "      <td>0.0</td>\n",
       "      <td>0.0</td>\n",
       "      <td>0.0</td>\n",
       "      <td>0.0</td>\n",
       "      <td>0.0</td>\n",
       "      <td>1</td>\n",
       "    </tr>\n",
       "    <tr>\n",
       "      <th>6683</th>\n",
       "      <td>0.0</td>\n",
       "      <td>0.0</td>\n",
       "      <td>1.0</td>\n",
       "      <td>35000.0</td>\n",
       "      <td>0.0</td>\n",
       "      <td>0.0</td>\n",
       "      <td>0.0</td>\n",
       "      <td>1.0</td>\n",
       "      <td>0.0</td>\n",
       "      <td>0.0</td>\n",
       "      <td>0.0</td>\n",
       "      <td>0.0</td>\n",
       "      <td>0.0</td>\n",
       "      <td>0.0</td>\n",
       "      <td>0.0</td>\n",
       "      <td>0.0</td>\n",
       "      <td>0.0</td>\n",
       "      <td>0.0</td>\n",
       "      <td>0</td>\n",
       "    </tr>\n",
       "  </tbody>\n",
       "</table>\n",
       "<p>6684 rows × 19 columns</p>\n",
       "</div>"
      ],
      "text/plain": [
       "      Gender  Education Level  Years of Experience    Salary  Developer  \\\n",
       "0        1.0              1.0                  5.0   90000.0        0.0   \n",
       "1        0.0              2.0                  3.0   65000.0        0.0   \n",
       "2        1.0              3.0                 15.0  150000.0        0.0   \n",
       "3        0.0              1.0                  7.0   60000.0        0.0   \n",
       "4        1.0              2.0                 20.0  200000.0        0.0   \n",
       "...      ...              ...                  ...       ...        ...   \n",
       "6679     0.0              3.0                 20.0  200000.0        0.0   \n",
       "6680     1.0              0.0                  3.0   50000.0        0.0   \n",
       "6681     0.0              1.0                  4.0   55000.0        0.0   \n",
       "6682     1.0              2.0                 14.0  140000.0        0.0   \n",
       "6683     0.0              0.0                  1.0   35000.0        0.0   \n",
       "\n",
       "      Scientist  Engineer  Sales  Manager  Senior   HR  Coordinator  Project  \\\n",
       "0           0.0       1.0    0.0      0.0     0.0  0.0          0.0      0.0   \n",
       "1           0.0       0.0    0.0      0.0     0.0  0.0          0.0      0.0   \n",
       "2           0.0       0.0    0.0      1.0     1.0  0.0          0.0      0.0   \n",
       "3           0.0       0.0    1.0      0.0     0.0  0.0          0.0      0.0   \n",
       "4           0.0       0.0    0.0      0.0     0.0  0.0          0.0      0.0   \n",
       "...         ...       ...    ...      ...     ...  ...          ...      ...   \n",
       "6679        0.0       0.0    0.0      0.0     0.0  0.0          0.0      0.0   \n",
       "6680        0.0       0.0    1.0      0.0     0.0  0.0          0.0      0.0   \n",
       "6681        0.0       0.0    0.0      1.0     0.0  0.0          0.0      0.0   \n",
       "6682        0.0       0.0    0.0      1.0     0.0  0.0          0.0      0.0   \n",
       "6683        0.0       0.0    1.0      0.0     0.0  0.0          0.0      0.0   \n",
       "\n",
       "      Software  Junior  Analyst  Data  Operations  Above Average  \n",
       "0          1.0     0.0      0.0   0.0         0.0              0  \n",
       "1          0.0     0.0      1.0   1.0         0.0              0  \n",
       "2          0.0     0.0      0.0   0.0         0.0              1  \n",
       "3          0.0     0.0      0.0   0.0         0.0              0  \n",
       "4          0.0     0.0      0.0   0.0         0.0              1  \n",
       "...        ...     ...      ...   ...         ...            ...  \n",
       "6679       0.0     0.0      0.0   0.0         0.0              1  \n",
       "6680       0.0     0.0      0.0   0.0         0.0              0  \n",
       "6681       0.0     0.0      0.0   0.0         0.0              0  \n",
       "6682       0.0     0.0      0.0   0.0         0.0              1  \n",
       "6683       0.0     0.0      0.0   0.0         0.0              0  \n",
       "\n",
       "[6684 rows x 19 columns]"
      ]
     },
     "execution_count": 58,
     "metadata": {},
     "output_type": "execute_result"
    }
   ],
   "source": [
    "data_case['Above Average'] = data_case['Salary'] > 115000 \n",
    "#data_case['Above Average'] = pd.get_dummies(data_case['Above Average'], drop_first= True)\n",
    "data_case['Above Average'] = data_case['Above Average'].astype(int)\n",
    "# Separamos los datos para elegir si estan por debajo o por encima del promedio\n",
    "data_case\n"
   ]
  },
  {
   "cell_type": "code",
   "execution_count": 59,
   "metadata": {},
   "outputs": [
    {
     "name": "stderr",
     "output_type": "stream",
     "text": [
      "c:\\Users\\xavie\\miniconda3\\envs\\datasc\\Lib\\site-packages\\seaborn\\axisgrid.py:118: UserWarning: The figure layout has changed to tight\n",
      "  self._figure.tight_layout(*args, **kwargs)\n"
     ]
    },
    {
     "data": {
      "image/png": "[encoded data removed]",
      "text/plain": [
       "<Figure size 250x250 with 1 Axes>"
      ]
     },
     "metadata": {},
     "output_type": "display_data"
    }
   ],
   "source": [
    "x = data_case['Years of Experience']\n",
    "y = data_case['Above Average']\n",
    "sns.pairplot(data_case,x_vars=['Years of Experience'],y_vars=['Above Average'],kind='scatter')\n",
    "plt.xlabel('Años de experiencia')\n",
    "plt.ylabel('Salario')\n",
    "plt.title('Años de experiencia si el salario es > 115000')\n",
    "plt.show()"
   ]
  },
  {
   "cell_type": "markdown",
   "metadata": {},
   "source": [
    "En la siguiente celda se crea la funcion que entrena y da el resultado del dataset"
   ]
  },
  {
   "cell_type": "code",
   "execution_count": 60,
   "metadata": {},
   "outputs": [],
   "source": [
    "def show_result(X_train, X_test, Y_train, Y_test):\n",
    "    #Almacenamos el modelo en una variable\n",
    "    model = LogisticRegression(max_iter = 1000)\n",
    "\n",
    "    #Entrenamos los datos \n",
    "    model.fit(X_train, Y_train)\n",
    "\n",
    "    #Prediccion\n",
    "    Y_pred = model.predict(X_test)\n",
    "\n",
    "    #Coeficientes\n",
    "    print('beta_0:',model.intercept_)\n",
    "    print('beta_1:',model.coef_)\n",
    "    print(\"Coefficient of determination: %.2f\" % r2_score(Y_test, Y_pred))\n",
    "\n",
    "    # Matriz de confusion\n",
    "    conf_matrix = metrics.confusion_matrix(Y_test, Y_pred)\n",
    "    plt.figure(figsize=(5, 5))\n",
    "    sns.heatmap(conf_matrix, annot=True, fmt=\"d\", cmap = 'Blues_r')\n",
    "    plt.title(\"Confusion matrix\")\n",
    "    plt.ylabel('True class')\n",
    "    plt.xlabel('Predicted class')\n",
    "    plt.show()\n",
    "\n",
    "    #Caracteristicas de la matriz de confusion\n",
    "    print (classification_report(Y_test, Y_pred))"
   ]
  },
  {
   "cell_type": "markdown",
   "metadata": {},
   "source": [
    "## Regrsion logistica unidimensional"
   ]
  },
  {
   "cell_type": "markdown",
   "metadata": {},
   "source": [
    "Dividimos el dataset"
   ]
  },
  {
   "cell_type": "code",
   "execution_count": 61,
   "metadata": {},
   "outputs": [],
   "source": [
    "x_train,x_test, y_train, y_test = train_test_split(x, y, test_size = 0.25, random_state=0)\n",
    "x_train, x_test = np.array(x_train).reshape(-1, 1), np.array(x_test).reshape(-1, 1)\n",
    "y_train, y_test = np.array(y_train).reshape(-1, 1), np.array(y_test).reshape(-1, 1)"
   ]
  },
  {
   "cell_type": "code",
   "execution_count": 62,
   "metadata": {},
   "outputs": [
    {
     "name": "stderr",
     "output_type": "stream",
     "text": [
      "c:\\Users\\xavie\\miniconda3\\envs\\datasc\\Lib\\site-packages\\sklearn\\utils\\validation.py:1143: DataConversionWarning: A column-vector y was passed when a 1d array was expected. Please change the shape of y to (n_samples, ), for example using ravel().\n",
      "  y = column_or_1d(y, warn=True)\n"
     ]
    },
    {
     "name": "stdout",
     "output_type": "stream",
     "text": [
      "beta_0: [-4.06266913]\n",
      "beta_1: [[0.56248715]]\n",
      "Coefficient of determination: 0.43\n"
     ]
    },
    {
     "data": {
      "image/png": "[encoded data removed]",
      "text/plain": [
       "<Figure size 500x500 with 2 Axes>"
      ]
     },
     "metadata": {},
     "output_type": "display_data"
    },
    {
     "name": "stdout",
     "output_type": "stream",
     "text": [
      "              precision    recall  f1-score   support\n",
      "\n",
      "           0       0.83      0.89      0.86       832\n",
      "           1       0.89      0.82      0.85       839\n",
      "\n",
      "    accuracy                           0.86      1671\n",
      "   macro avg       0.86      0.86      0.86      1671\n",
      "weighted avg       0.86      0.86      0.86      1671\n",
      "\n"
     ]
    }
   ],
   "source": [
    "show_result(x_train, x_test, y_train, y_test)"
   ]
  },
  {
   "cell_type": "markdown",
   "metadata": {},
   "source": [
    "Graficamos la funcion sigmoide asociada junto con los datos "
   ]
  },
  {
   "cell_type": "code",
   "execution_count": 63,
   "metadata": {},
   "outputs": [
    {
     "name": "stderr",
     "output_type": "stream",
     "text": [
      "c:\\Users\\xavie\\miniconda3\\envs\\datasc\\Lib\\site-packages\\sklearn\\utils\\validation.py:1143: DataConversionWarning: A column-vector y was passed when a 1d array was expected. Please change the shape of y to (n_samples, ), for example using ravel().\n",
      "  y = column_or_1d(y, warn=True)\n",
      "C:\\Users\\xavie\\AppData\\Local\\Temp\\ipykernel_14824\\616979756.py:5: DeprecationWarning: Conversion of an array with ndim > 0 to a scalar is deprecated, and will error in future. Ensure you extract a single element from your array before performing this operation. (Deprecated NumPy 1.25.)\n",
      "  return 1/(1+math.exp(-exponent))\n"
     ]
    },
    {
     "data": {
      "image/png": "[encoded data removed]",
      "text/plain": [
       "<Figure size 500x500 with 1 Axes>"
      ]
     },
     "metadata": {},
     "output_type": "display_data"
    }
   ],
   "source": [
    "model = LogisticRegression()\n",
    "model.fit(x_train, y_train)\n",
    "def funct_exp(x):\n",
    "    exponent = model.intercept_ + np.dot(model.coef_[0], x)\n",
    "    return 1/(1+math.exp(-exponent))\n",
    "\n",
    "x = np.arange(-1, 35., 0.2)\n",
    "sig = [funct_exp(i) for i in x]\n",
    "\n",
    "\n",
    "plt.figure(figsize=(5,5))\n",
    "plt.xlabel('Years')\n",
    "plt.ylabel('Salary')\n",
    "plt.title('Salary Prediction')\n",
    "plt.scatter(data_case['Years of Experience'], data_case['Above Average'], c='black')\n",
    "plt.plot(x,sig)\n",
    "plt.show()"
   ]
  },
  {
   "cell_type": "markdown",
   "metadata": {},
   "source": [
    "## Regresion logistica multidimensional "
   ]
  },
  {
   "cell_type": "code",
   "execution_count": 64,
   "metadata": {},
   "outputs": [
    {
     "name": "stdout",
     "output_type": "stream",
     "text": [
      "beta_0: [-6.84258268]\n",
      "beta_1: [[ 0.69469413  0.04531803  0.75375018 -0.07527934  1.57581488  1.78318028\n",
      "  -0.46255635  0.62359134 -2.14492963 -1.71259518 -0.90053721  1.00191878\n",
      "   1.03244727 -2.12716574  0.05774945  2.94265453 -2.50163288]]\n",
      "Coefficient of determination: 0.63\n"
     ]
    },
    {
     "data": {
      "image/png": "[encoded data removed]",
      "text/plain": [
       "<Figure size 500x500 with 2 Axes>"
      ]
     },
     "metadata": {},
     "output_type": "display_data"
    },
    {
     "name": "stdout",
     "output_type": "stream",
     "text": [
      "              precision    recall  f1-score   support\n",
      "\n",
      "           0       0.88      0.95      0.91       832\n",
      "           1       0.94      0.87      0.90       839\n",
      "\n",
      "    accuracy                           0.91      1671\n",
      "   macro avg       0.91      0.91      0.91      1671\n",
      "weighted avg       0.91      0.91      0.91      1671\n",
      "\n"
     ]
    }
   ],
   "source": [
    "\n",
    "x = data_case.drop(['Salary', 'Above Average'], axis=1)\n",
    "y = data_case['Above Average']\n",
    "x_train,x_test, y_train, y_test = train_test_split(x, y, test_size = 0.25, random_state=0)\n",
    "\n",
    "show_result(x_train, x_test, y_train, y_test)\n"
   ]
  },
  {
   "cell_type": "code",
   "execution_count": null,
   "metadata": {},
   "outputs": [],
   "source": []
  }
 ],
 "metadata": {
  "kernelspec": {
   "display_name": "datasc",
   "language": "python",
   "name": "python3"
  },
  "language_info": {
   "codemirror_mode": {
    "name": "ipython",
    "version": 3
   },
   "file_extension": ".py",
   "mimetype": "text/x-python",
   "name": "python",
   "nbconvert_exporter": "python",
   "pygments_lexer": "ipython3",
   "version": "3.11.4"
  },
  "orig_nbformat": 4
 },
 "nbformat": 4,
 "nbformat_minor": 2
}
